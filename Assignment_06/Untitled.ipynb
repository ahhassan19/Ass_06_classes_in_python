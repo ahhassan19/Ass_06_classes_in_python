{
 "cells": [
  {
   "cell_type": "code",
   "execution_count": 1,
   "id": "acc521a5-65c9-47f7-a6f3-093161a4c435",
   "metadata": {},
   "outputs": [
    {
     "name": "stdin",
     "output_type": "stream",
     "text": [
      "Enter the radius of the circle:  3\n"
     ]
    },
    {
     "name": "stdout",
     "output_type": "stream",
     "text": [
      "Area of the circle: 28.27\n",
      "Perimeter of the circle: 18.85\n"
     ]
    }
   ],
   "source": [
    "#Write a Python program to create a class representing a Circle. Include methods to calculate its area and perimeter.\n",
    "import math\n",
    "\n",
    "class Circle:\n",
    "    def __init__(self, radius):\n",
    "        self.radius = radius\n",
    "\n",
    "    def area(self):\n",
    "        return math.pi * (self.radius ** 2)\n",
    "\n",
    "    def perimeter(self):\n",
    "        return 2 * math.pi * self.radius\n",
    "\n",
    "def main():\n",
    "    radius = float(input(\"Enter the radius of the circle: \"))\n",
    "    circle = Circle(radius)\n",
    "    \n",
    "    print(f\"Area of the circle: {circle.area():.2f}\")\n",
    "    print(f\"Perimeter of the circle: {circle.perimeter():.2f}\")\n",
    "\n"
   ]
  },
  {
   "cell_type": "code",
   "execution_count": 3,
   "id": "8cbfa749-c9cc-4e94-9dbb-84667f444168",
   "metadata": {},
   "outputs": [
    {
     "name": "stdin",
     "output_type": "stream",
     "text": [
      "Enter the person's name:  Ahmed hassan\n",
      "Enter the person's country:  pak\n",
      "Enter the person's date of birth (YYYY-MM-DD):  2003-08-14\n"
     ]
    },
    {
     "name": "stdout",
     "output_type": "stream",
     "text": [
      "Name: Ahmed hassan\n",
      "Country: pak\n",
      "Age: 21 years\n"
     ]
    }
   ],
   "source": [
    "#Write a Python program to create a person class. Include attributes like name, country and date of birth. Implement a method to determine the person's age.\n",
    "from datetime import datetime\n",
    "\n",
    "class Person:\n",
    "    def __init__(self, name, country, date_of_birth):\n",
    "        self.name = name\n",
    "        self.country = country\n",
    "        self.date_of_birth = datetime.strptime(date_of_birth, \"%Y-%m-%d\")\n",
    "\n",
    "    def age(self):\n",
    "        today = datetime.today()\n",
    "        age = today.year - self.date_of_birth.year\n",
    "        if (today.month, today.day) < (self.date_of_birth.month, self.date_of_birth.day):\n",
    "            age -= 1\n",
    "        return age\n",
    "\n",
    "def main():\n",
    "    name = input(\"Enter the person's name: \")\n",
    "    country = input(\"Enter the person's country: \")\n",
    "    date_of_birth = input(\"Enter the person's date of birth (YYYY-MM-DD): \")\n",
    "    \n",
    "    person = Person(name, country, date_of_birth)\n",
    "    \n",
    "    print(f\"Name: {person.name}\")\n",
    "    print(f\"Country: {person.country}\")\n",
    "    print(f\"Age: {person.age()} years\")\n"
   ]
  },
  {
   "cell_type": "code",
   "execution_count": 4,
   "id": "b81f29ae-7b31-4124-9577-5cbb1f7c6e9e",
   "metadata": {},
   "outputs": [
    {
     "name": "stdout",
     "output_type": "stream",
     "text": [
      "\n",
      "Simple Calculator\n",
      "1. Add\n",
      "2. Subtract\n",
      "3. Multiply\n",
      "4. Divide\n",
      "5. Exit\n"
     ]
    },
    {
     "name": "stdin",
     "output_type": "stream",
     "text": [
      "Choose an operation (1-5):  1\n",
      "Enter first number:  22\n",
      "Enter second number:  34\n"
     ]
    },
    {
     "name": "stdout",
     "output_type": "stream",
     "text": [
      "Result: 56.0\n",
      "\n",
      "Simple Calculator\n",
      "1. Add\n",
      "2. Subtract\n",
      "3. Multiply\n",
      "4. Divide\n",
      "5. Exit\n"
     ]
    },
    {
     "name": "stdin",
     "output_type": "stream",
     "text": [
      "Choose an operation (1-5):  1\n",
      "Enter first number:  11\n",
      "Enter second number:  12\n"
     ]
    },
    {
     "name": "stdout",
     "output_type": "stream",
     "text": [
      "Result: 23.0\n",
      "\n",
      "Simple Calculator\n",
      "1. Add\n",
      "2. Subtract\n",
      "3. Multiply\n",
      "4. Divide\n",
      "5. Exit\n"
     ]
    },
    {
     "name": "stdin",
     "output_type": "stream",
     "text": [
      "Choose an operation (1-5):  5\n"
     ]
    },
    {
     "name": "stdout",
     "output_type": "stream",
     "text": [
      "Exiting the calculator. Goodbye!\n"
     ]
    }
   ],
   "source": [
    "class Calculator:\n",
    "    def add(self, a, b):\n",
    "        return a + b\n",
    "\n",
    "    def subtract(self, a, b):\n",
    "        return a - b\n",
    "\n",
    "    def multiply(self, a, b):\n",
    "        return a * b\n",
    "\n",
    "    def divide(self, a, b):\n",
    "        if b == 0:\n",
    "            return \"Error: Division by zero is not allowed.\"\n",
    "        return a / b\n",
    "\n",
    "def main():\n",
    "    calc = Calculator()\n",
    "    \n",
    "    while True:\n",
    "        print(\"\\nSimple Calculator\")\n",
    "        print(\"1. Add\")\n",
    "        print(\"2. Subtract\")\n",
    "        print(\"3. Multiply\")\n",
    "        print(\"4. Divide\")\n",
    "        print(\"5. Exit\")\n",
    "        \n",
    "        choice = input(\"Choose an operation (1-5): \")\n",
    "        \n",
    "        if choice == '5':\n",
    "            print(\"Exiting the calculator. Goodbye!\")\n",
    "            break\n",
    "        \n",
    "        if choice in ['1', '2', '3', '4']:\n",
    "            a = float(input(\"Enter first number: \"))\n",
    "            b = float(input(\"Enter second number: \"))\n",
    "            \n",
    "            if choice == '1':\n",
    "                result = calc.add(a, b)\n",
    "                print(f\"Result: {result}\")\n",
    "            elif choice == '2':\n",
    "                result = calc.subtract(a, b)\n",
    "                print(f\"Result: {result}\")\n",
    "            elif choice == '3':\n",
    "                result = calc.multiply(a, b)\n",
    "                print(f\"Result: {result}\")\n",
    "            elif choice == '4':\n",
    "                result = calc.divide(a, b)\n",
    "                print(f\"Result: {result}\")\n",
    "        else:\n",
    "            print(\"Invalid choice. Please select a valid operation.\")\n",
    "\n",
    "if __name__ == \"__main__\":\n",
    "    main()"
   ]
  },
  {
   "cell_type": "code",
   "execution_count": null,
   "id": "d96ea6bd-c541-47a0-94e4-8fd2ea02ed5b",
   "metadata": {},
   "outputs": [],
   "source": []
  }
 ],
 "metadata": {
  "kernelspec": {
   "display_name": "Python 3 (ipykernel)",
   "language": "python",
   "name": "python3"
  },
  "language_info": {
   "codemirror_mode": {
    "name": "ipython",
    "version": 3
   },
   "file_extension": ".py",
   "mimetype": "text/x-python",
   "name": "python",
   "nbconvert_exporter": "python",
   "pygments_lexer": "ipython3",
   "version": "3.11.7"
  }
 },
 "nbformat": 4,
 "nbformat_minor": 5
}
